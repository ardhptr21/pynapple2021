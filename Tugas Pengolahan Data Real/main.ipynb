{
 "cells": [
  {
   "cell_type": "markdown",
   "metadata": {},
   "source": [
    "# Import Library"
   ]
  },
  {
   "cell_type": "code",
   "execution_count": 1,
   "metadata": {},
   "outputs": [],
   "source": [
    "import pandas as pd\n",
    "import matplotlib.pyplot as plt\n",
    "import numpy as np\n",
    "import seaborn as sns"
   ]
  },
  {
   "cell_type": "markdown",
   "metadata": {},
   "source": [
    "# Load Data"
   ]
  },
  {
   "cell_type": "code",
   "execution_count": 4,
   "metadata": {},
   "outputs": [
    {
     "data": {
      "text/html": [
       "<div>\n",
       "<style scoped>\n",
       "    .dataframe tbody tr th:only-of-type {\n",
       "        vertical-align: middle;\n",
       "    }\n",
       "\n",
       "    .dataframe tbody tr th {\n",
       "        vertical-align: top;\n",
       "    }\n",
       "\n",
       "    .dataframe thead th {\n",
       "        text-align: right;\n",
       "    }\n",
       "</style>\n",
       "<table border=\"1\" class=\"dataframe\">\n",
       "  <thead>\n",
       "    <tr style=\"text-align: right;\">\n",
       "      <th></th>\n",
       "      <th>nama</th>\n",
       "      <th>kelas</th>\n",
       "      <th>jurusan</th>\n",
       "      <th>indeks</th>\n",
       "      <th>jarak</th>\n",
       "      <th>transportasi</th>\n",
       "      <th>uang_saku</th>\n",
       "    </tr>\n",
       "  </thead>\n",
       "  <tbody>\n",
       "    <tr>\n",
       "      <th>0</th>\n",
       "      <td>Azka Bariqlana</td>\n",
       "      <td>11</td>\n",
       "      <td>SIJA</td>\n",
       "      <td>2</td>\n",
       "      <td>11 - 15 KM</td>\n",
       "      <td>Motor</td>\n",
       "      <td>30000</td>\n",
       "    </tr>\n",
       "    <tr>\n",
       "      <th>1</th>\n",
       "      <td>Fazle Mawla Wahyuhanda</td>\n",
       "      <td>11</td>\n",
       "      <td>SIJA</td>\n",
       "      <td>1</td>\n",
       "      <td>11 - 15 KM</td>\n",
       "      <td>Motor</td>\n",
       "      <td>20000</td>\n",
       "    </tr>\n",
       "    <tr>\n",
       "      <th>2</th>\n",
       "      <td>Muhammad Naufal Tsaqif</td>\n",
       "      <td>11</td>\n",
       "      <td>SIJA</td>\n",
       "      <td>1</td>\n",
       "      <td>5 - 10 KM</td>\n",
       "      <td>Motor</td>\n",
       "      <td>20000</td>\n",
       "    </tr>\n",
       "    <tr>\n",
       "      <th>3</th>\n",
       "      <td>Bagus Novianto</td>\n",
       "      <td>11</td>\n",
       "      <td>TTL</td>\n",
       "      <td>2</td>\n",
       "      <td>5 - 10 KM</td>\n",
       "      <td>Motor</td>\n",
       "      <td>10000</td>\n",
       "    </tr>\n",
       "    <tr>\n",
       "      <th>4</th>\n",
       "      <td>Aldino Cahya Putra</td>\n",
       "      <td>11</td>\n",
       "      <td>SIJA</td>\n",
       "      <td>2</td>\n",
       "      <td>11 - 15 KM</td>\n",
       "      <td>Motor</td>\n",
       "      <td>20000</td>\n",
       "    </tr>\n",
       "  </tbody>\n",
       "</table>\n",
       "</div>"
      ],
      "text/plain": [
       "                     nama  kelas jurusan  indeks       jarak transportasi  \\\n",
       "0          Azka Bariqlana     11    SIJA       2  11 - 15 KM        Motor   \n",
       "1  Fazle Mawla Wahyuhanda     11    SIJA       1  11 - 15 KM        Motor   \n",
       "2  Muhammad Naufal Tsaqif     11    SIJA       1   5 - 10 KM        Motor   \n",
       "3          Bagus Novianto     11     TTL       2   5 - 10 KM        Motor   \n",
       "4      Aldino Cahya Putra     11    SIJA       2  11 - 15 KM        Motor   \n",
       "\n",
       "   uang_saku  \n",
       "0      30000  \n",
       "1      20000  \n",
       "2      20000  \n",
       "3      10000  \n",
       "4      20000  "
      ]
     },
     "execution_count": 4,
     "metadata": {},
     "output_type": "execute_result"
    }
   ],
   "source": [
    "data_df = pd.read_csv('data_uang_saku_siswa.csv')\n",
    "\n",
    "data_df.head()"
   ]
  },
  {
   "cell_type": "code",
   "execution_count": 5,
   "metadata": {},
   "outputs": [
    {
     "data": {
      "text/html": [
       "<div>\n",
       "<style scoped>\n",
       "    .dataframe tbody tr th:only-of-type {\n",
       "        vertical-align: middle;\n",
       "    }\n",
       "\n",
       "    .dataframe tbody tr th {\n",
       "        vertical-align: top;\n",
       "    }\n",
       "\n",
       "    .dataframe thead th {\n",
       "        text-align: right;\n",
       "    }\n",
       "</style>\n",
       "<table border=\"1\" class=\"dataframe\">\n",
       "  <thead>\n",
       "    <tr style=\"text-align: right;\">\n",
       "      <th></th>\n",
       "      <th>nama</th>\n",
       "      <th>kelas</th>\n",
       "      <th>jurusan</th>\n",
       "      <th>indeks</th>\n",
       "      <th>jarak</th>\n",
       "      <th>transportasi</th>\n",
       "      <th>uang_saku</th>\n",
       "    </tr>\n",
       "  </thead>\n",
       "  <tbody>\n",
       "    <tr>\n",
       "      <th>0</th>\n",
       "      <td>Azka Bariqlana</td>\n",
       "      <td>11</td>\n",
       "      <td>SIJA</td>\n",
       "      <td>2</td>\n",
       "      <td>11 - 15 KM</td>\n",
       "      <td>Motor</td>\n",
       "      <td>30000</td>\n",
       "    </tr>\n",
       "    <tr>\n",
       "      <th>1</th>\n",
       "      <td>Fazle Mawla Wahyuhanda</td>\n",
       "      <td>11</td>\n",
       "      <td>SIJA</td>\n",
       "      <td>1</td>\n",
       "      <td>11 - 15 KM</td>\n",
       "      <td>Motor</td>\n",
       "      <td>20000</td>\n",
       "    </tr>\n",
       "    <tr>\n",
       "      <th>2</th>\n",
       "      <td>Muhammad Naufal Tsaqif</td>\n",
       "      <td>11</td>\n",
       "      <td>SIJA</td>\n",
       "      <td>1</td>\n",
       "      <td>5 - 10 KM</td>\n",
       "      <td>Motor</td>\n",
       "      <td>20000</td>\n",
       "    </tr>\n",
       "    <tr>\n",
       "      <th>3</th>\n",
       "      <td>Bagus Novianto</td>\n",
       "      <td>11</td>\n",
       "      <td>TTL</td>\n",
       "      <td>2</td>\n",
       "      <td>5 - 10 KM</td>\n",
       "      <td>Motor</td>\n",
       "      <td>10000</td>\n",
       "    </tr>\n",
       "    <tr>\n",
       "      <th>4</th>\n",
       "      <td>Aldino Cahya Putra</td>\n",
       "      <td>11</td>\n",
       "      <td>SIJA</td>\n",
       "      <td>2</td>\n",
       "      <td>11 - 15 KM</td>\n",
       "      <td>Motor</td>\n",
       "      <td>20000</td>\n",
       "    </tr>\n",
       "  </tbody>\n",
       "</table>\n",
       "</div>"
      ],
      "text/plain": [
       "                     nama  kelas jurusan  indeks       jarak transportasi  \\\n",
       "0          Azka Bariqlana     11    SIJA       2  11 - 15 KM        Motor   \n",
       "1  Fazle Mawla Wahyuhanda     11    SIJA       1  11 - 15 KM        Motor   \n",
       "2  Muhammad Naufal Tsaqif     11    SIJA       1   5 - 10 KM        Motor   \n",
       "3          Bagus Novianto     11     TTL       2   5 - 10 KM        Motor   \n",
       "4      Aldino Cahya Putra     11    SIJA       2  11 - 15 KM        Motor   \n",
       "\n",
       "   uang_saku  \n",
       "0      30000  \n",
       "1      20000  \n",
       "2      20000  \n",
       "3      10000  \n",
       "4      20000  "
      ]
     },
     "execution_count": 5,
     "metadata": {},
     "output_type": "execute_result"
    }
   ],
   "source": [
    "# mengubah semua nama menjadi title case\n",
    "data_df['nama'] = data_df['nama'].str.title()\n",
    "data_df.head()"
   ]
  },
  {
   "cell_type": "markdown",
   "metadata": {},
   "source": [
    "# Explore Data"
   ]
  },
  {
   "cell_type": "code",
   "execution_count": 19,
   "metadata": {},
   "outputs": [
    {
     "name": "stdout",
     "output_type": "stream",
     "text": [
      "Jumlah data: 253\n",
      "Jumlah kolom: 7\n",
      "\n",
      "Kolom:\n",
      "\t- nama\n",
      "\t- kelas\n",
      "\t- jurusan\n",
      "\t- indeks\n",
      "\t- jarak\n",
      "\t- transportasi\n",
      "\t- uang_saku\n"
     ]
    }
   ],
   "source": [
    "# jumlah seluruh data dan kolom\n",
    "print(f\"Jumlah data: {len(data_df)}\")\n",
    "print(f\"Jumlah kolom: {len(data_df.columns)}\")\n",
    "\n",
    "# melihat seluruh kolom yang ada\n",
    "print(\"\\nKolom:\")\n",
    "for i in data_df.columns:\n",
    "    print(f\"\\t- {i}\")"
   ]
  },
  {
   "cell_type": "markdown",
   "metadata": {},
   "source": [
    "# Visualization"
   ]
  },
  {
   "cell_type": "code",
   "execution_count": 42,
   "metadata": {},
   "outputs": [
    {
     "data": {
      "image/png": "[encoded data removed]",
      "text/plain": [
       "<Figure size 720x360 with 1 Axes>"
      ]
     },
     "metadata": {
      "needs_background": "light"
     },
     "output_type": "display_data"
    }
   ],
   "source": [
    "# visualisasi kolom kelas\n",
    "plt.figure(figsize=(10, 5))\n",
    "ax = sns.countplot(x='kelas', data=data_df)\n",
    "ax.title.set_text('Jumlah Survey Siswa Per Kelas')\n",
    "ax.set(xlabel='Kelas', ylabel='Jumlah Siswa')\n",
    "plt.show()"
   ]
  },
  {
   "cell_type": "markdown",
   "metadata": {},
   "source": [
    "dari banyaknya seluruh data yang ada, kita dapat melihat bahwa banyaknya data diisi oleh kelas 10 dan 11"
   ]
  },
  {
   "cell_type": "code",
   "execution_count": 43,
   "metadata": {},
   "outputs": [
    {
     "data": {
      "image/png": "[encoded data removed]",
      "text/plain": [
       "<Figure size 720x360 with 1 Axes>"
      ]
     },
     "metadata": {
      "needs_background": "light"
     },
     "output_type": "display_data"
    }
   ],
   "source": [
    "# visualisasi kolom jurusan\n",
    "plt.figure(figsize=(10, 5))\n",
    "ax = sns.countplot(x='jurusan', data=data_df)\n",
    "ax.title.set_text('Jumlah Survey Siswa Per Jurusan')\n",
    "ax.set(xlabel='Jurusan', ylabel='Jumlah Siswa')\n",
    "plt.show()"
   ]
  },
  {
   "cell_type": "markdown",
   "metadata": {},
   "source": [
    "dari banyaknya seluruh data yang ada, kita dapat melihat bahwa banyaknya data diisi oleh jurusan SIJA"
   ]
  },
  {
   "cell_type": "code",
   "execution_count": 46,
   "metadata": {},
   "outputs": [
    {
     "data": {
      "image/png": "[encoded data removed]",
      "text/plain": [
       "<Figure size 720x360 with 1 Axes>"
      ]
     },
     "metadata": {
      "needs_background": "light"
     },
     "output_type": "display_data"
    }
   ],
   "source": [
    "# visualisasi kolom jarak rumah ke sekolah\n",
    "plt.figure(figsize=(10, 5))\n",
    "ax = sns.countplot(x='jarak', data=data_df)\n",
    "ax.title.set_text('Jarak Rumah Siswa ke Sekolah')\n",
    "ax.set(xlabel='Jarak Rumah ke Sekolah', ylabel='Jumlah Siswa')\n",
    "plt.show()"
   ]
  },
  {
   "cell_type": "markdown",
   "metadata": {},
   "source": [
    "ternyata rata rata jarak siswa dengan sekolah yaitu 5 - 10 km"
   ]
  },
  {
   "cell_type": "code",
   "execution_count": 47,
   "metadata": {},
   "outputs": [
    {
     "data": {
      "image/png": "[encoded data removed]",
      "text/plain": [
       "<Figure size 720x360 with 1 Axes>"
      ]
     },
     "metadata": {
      "needs_background": "light"
     },
     "output_type": "display_data"
    }
   ],
   "source": [
    "# visualisasi kolom uang saku\n",
    "plt.figure(figsize=(10, 5))\n",
    "ax = sns.countplot(x='uang_saku', data=data_df)\n",
    "ax.title.set_text('Uang Saku Siswa')\n",
    "ax.set(xlabel='Uang Saku', ylabel='Jumlah Siswa')\n",
    "plt.show()"
   ]
  },
  {
   "cell_type": "markdown",
   "metadata": {},
   "source": [
    "ternyata siswa rata rata di beri uang saku sebanyak Rp. 10.000;"
   ]
  }
 ],
 "metadata": {
  "interpreter": {
   "hash": "c8f810f91545533f0c27e234a958513460b84130727dc799042a5475b8c498b4"
  },
  "kernelspec": {
   "display_name": "Python 3.10.0 64-bit ('venv': venv)",
   "language": "python",
   "name": "python3"
  },
  "language_info": {
   "codemirror_mode": {
    "name": "ipython",
    "version": 3
   },
   "file_extension": ".py",
   "mimetype": "text/x-python",
   "name": "python",
   "nbconvert_exporter": "python",
   "pygments_lexer": "ipython3",
   "version": "3.10.0"
  },
  "orig_nbformat": 4
 },
 "nbformat": 4,
 "nbformat_minor": 2
}
