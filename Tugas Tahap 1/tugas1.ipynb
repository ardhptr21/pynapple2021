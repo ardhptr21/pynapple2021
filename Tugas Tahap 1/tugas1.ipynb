{
 "cells": [
  {
   "cell_type": "markdown",
   "source": [
    "# Modulus function\r\n",
    "Sebuah function yang akan mencari hasil modulus dari suatu nilai dan angka modulusnya"
   ],
   "metadata": {}
  },
  {
   "cell_type": "code",
   "execution_count": 1,
   "source": [
    "def getModulus(num1, num2):\r\n",
    "  # this statement will check if the parameter is a valid number\r\n",
    "  if (type(num1 and num2) is int) or (type(num1 and num2) is float):\r\n",
    "    return num1 % num2\r\n",
    "  \r\n",
    "  # this function will raise the ValueError exception when parameter is not valid number\r\n",
    "  raise ValueError(\"Something goes wrong, Please make sure you entered valid number\")\r\n",
    " \r\n",
    "print(f\"Hasil dari 5 % 2 adalah {getModulus(5, 2)}\")\r\n",
    "print(f\"Hasil dari 10 % 4.5 adalah {getModulus(10, 4.5)}\")"
   ],
   "outputs": [
    {
     "output_type": "stream",
     "name": "stdout",
     "text": [
      "Hasil dari 5 % 2 adalah 1\n",
      "Hasil dari 10 % 4.5 adalah 1.0\n"
     ]
    }
   ],
   "metadata": {}
  },
  {
   "cell_type": "markdown",
   "source": [
    "# Control Flow Statement\r\n",
    "Membuat control flow berdasarkan kegiatan sehari-hari"
   ],
   "metadata": {}
  },
  {
   "cell_type": "code",
   "execution_count": 2,
   "source": [
    "sifat = 'tampan'\r\n",
    "orang1 = ['jutek', 'sombong', 'cuek']\r\n",
    "orang2 = ['ramah', 'tampan', 'berani']\r\n",
    "orang3 = ['cantik', 'ramah', 'asik']\r\n",
    "\r\n",
    "for index, item in enumerate((orang1, orang2, orang3)):\r\n",
    "  if sifat in item:\r\n",
    "    print(f\"WOWWW!!!, sifat {sifat} ditemukan pada orang ke - {index + 1}\")\r\n",
    "    print(f\"\\nSifat yang dimiliki orang ke - {index + 1}\")\r\n",
    "    for value in item:\r\n",
    "      print(f\"- {value}\")\r\n",
    "    break\r\n",
    "else:\r\n",
    "  print(f\"Sifat {sifat} tidak ada di ketiga orang tersebut\")"
   ],
   "outputs": [
    {
     "output_type": "stream",
     "name": "stdout",
     "text": [
      "WOWWW!!!, sifat tampan ditemukan pada orang ke - 2\n",
      "\n",
      "Sifat yang dimiliki orang ke - 2\n",
      "- ramah\n",
      "- tampan\n",
      "- berani\n"
     ]
    }
   ],
   "metadata": {}
  }
 ],
 "metadata": {
  "orig_nbformat": 4,
  "language_info": {
   "name": "python",
   "version": "3.9.6",
   "mimetype": "text/x-python",
   "codemirror_mode": {
    "name": "ipython",
    "version": 3
   },
   "pygments_lexer": "ipython3",
   "nbconvert_exporter": "python",
   "file_extension": ".py"
  },
  "kernelspec": {
   "name": "python3",
   "display_name": "Python 3.9.6 64-bit"
  },
  "interpreter": {
   "hash": "9503a2c5e1b54d3d774ca4619582f1c90a1bab313cb544a579bd768ee3eb9e42"
  }
 },
 "nbformat": 4,
 "nbformat_minor": 2
}