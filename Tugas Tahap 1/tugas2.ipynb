{
 "cells": [
  {
   "cell_type": "markdown",
   "source": [
    "# Object Oriented Programming"
   ],
   "metadata": {}
  },
  {
   "cell_type": "code",
   "execution_count": 1,
   "source": [
    "class Cat:\r\n",
    "  species = \"mammal\"\r\n",
    "  def __init__(self, name, age):\r\n",
    "      self.name = name\r\n",
    "      self.age = age"
   ],
   "outputs": [],
   "metadata": {}
  },
  {
   "cell_type": "markdown",
   "source": [
    "### Membuat 3 instantiate object dari `class Cat`"
   ],
   "metadata": {}
  },
  {
   "cell_type": "code",
   "execution_count": 2,
   "source": [
    "anggora = Cat(\"Paimin\", 7)\r\n",
    "persia = Cat(\"Bambank\", 10)\r\n",
    "himalaya = Cat(\"Mukidi\", 4)"
   ],
   "outputs": [],
   "metadata": {}
  },
  {
   "cell_type": "markdown",
   "source": [
    "### Membuat function untuk menentukan `kucing tertua`"
   ],
   "metadata": {}
  },
  {
   "cell_type": "code",
   "execution_count": 3,
   "source": [
    "def getOldestCat(*cat_object):\r\n",
    "    age_cat = [] # variable to store the age of the cat object\r\n",
    "\r\n",
    "    for obj in cat_object: # loop cat_object argument\r\n",
    "        # this is will check if the argument is not instance of Cat class\r\n",
    "        if not isinstance(obj, Cat):\r\n",
    "            # if not the instance, this function will raise the exception with type ValueError\r\n",
    "            raise ValueError(\"Please insert only Cat instance object!\")\r\n",
    "        age_cat.append(obj.age) # only append the age of object\r\n",
    "        \r\n",
    "    return max(age_cat)\r\n"
   ],
   "outputs": [],
   "metadata": {}
  },
  {
   "cell_type": "markdown",
   "source": [
    "### Print hasil dari function yang menentukan `kucing tertua`\r\n",
    "`output: Kucing tertua berumur x`"
   ],
   "metadata": {}
  },
  {
   "cell_type": "code",
   "execution_count": 4,
   "source": [
    "print(f\"Kucing tertua berumur {getOldestCat(anggora, persia, himalaya)}\")"
   ],
   "outputs": [
    {
     "output_type": "stream",
     "name": "stdout",
     "text": [
      "Kucing tertua berumur 10\n"
     ]
    }
   ],
   "metadata": {}
  },
  {
   "cell_type": "markdown",
   "source": [
    "# Unit Test"
   ],
   "metadata": {}
  },
  {
   "cell_type": "code",
   "execution_count": 5,
   "source": [
    "import random\r\n",
    "\r\n",
    "def run_guess(guess, answer):\r\n",
    "  try:\r\n",
    "    if 0 < int(guess) < 11:\r\n",
    "      if int(guess) == answer:\r\n",
    "        print('you are genius!')\r\n",
    "        return True\r\n",
    "    else:\r\n",
    "      print('hey kid, I said 1~10')\r\n",
    "      return False\r\n",
    "  except ValueError:\r\n",
    "    raise ValueError(\"Please insert a valid number between 1~10\")\r\n",
    "\r\n",
    "\r\n",
    "answer = random.randint(1, 10)\r\n",
    "while True:\r\n",
    "    try:\r\n",
    "      guess = input('guess a number 1~10:   ')\r\n",
    "      if run_guess(guess, answer):\r\n",
    "        break\r\n",
    "    except ValueError as error:\r\n",
    "      print(error)"
   ],
   "outputs": [
    {
     "output_type": "stream",
     "name": "stdout",
     "text": [
      "you are genius!\n"
     ]
    }
   ],
   "metadata": {}
  },
  {
   "cell_type": "markdown",
   "source": [
    "### Unit test for function `run_guess`"
   ],
   "metadata": {}
  },
  {
   "cell_type": "code",
   "execution_count": 6,
   "source": [
    "import unittest\r\n",
    "\r\n",
    "class TestRunGuess(unittest.TestCase):\r\n",
    "\r\n",
    "  def test_true_or_none_output(self):\r\n",
    "    self.assertTrue(run_guess(7, 7)) # should return True\r\n",
    "    self.assertTrue(run_guess(3, 3)) # should return True\r\n",
    "    self.assertIsNone(run_guess(1, 9)) # should return None\r\n",
    "    self.assertIsNone(run_guess(7, 3)) # should return None\r\n",
    "\r\n",
    "  def test_guess_out_of_range(self):\r\n",
    "    self.assertFalse(run_guess(11, 8)) # should return False\r\n",
    "    self.assertFalse(run_guess(20, 3)) # should return False\r\n",
    "    self.assertFalse(run_guess(-1, 1)) # should return False\r\n",
    "\r\n",
    "  def test_guess_not_valid_number(self):\r\n",
    "    self.assertFalse(run_guess(\"10\", 9)) # this is fine, but should return False, because guess and answer is not equal\r\n",
    "    self.assertTrue(run_guess(\"3\", 3)) # should return True, because the value is valid number and also guess and answer is equal  \r\n",
    "\r\n",
    "    # inside this 'with' statement, function run_guess should output the exception with type ValueError\r\n",
    "    with self.assertRaises(ValueError):\r\n",
    "      run_guess(\"hello world\", 2)\r\n",
    "      run_guess(\"python is amazing\", 5)\r\n",
    "\r\n",
    "_ = unittest.main(argv=[''], exit=False)"
   ],
   "outputs": [
    {
     "output_type": "stream",
     "name": "stderr",
     "text": [
      "..."
     ]
    },
    {
     "output_type": "stream",
     "name": "stdout",
     "text": [
      "you are genius!\n",
      "hey kid, I said 1~10\n",
      "hey kid, I said 1~10\n",
      "hey kid, I said 1~10\n",
      "you are genius!\n",
      "you are genius!\n"
     ]
    },
    {
     "output_type": "stream",
     "name": "stderr",
     "text": [
      "\n",
      "----------------------------------------------------------------------\n",
      "Ran 3 tests in 0.003s\n",
      "\n",
      "OK\n"
     ]
    }
   ],
   "metadata": {}
  }
 ],
 "metadata": {
  "orig_nbformat": 4,
  "language_info": {
   "name": "python",
   "version": "3.9.6",
   "mimetype": "text/x-python",
   "codemirror_mode": {
    "name": "ipython",
    "version": 3
   },
   "pygments_lexer": "ipython3",
   "nbconvert_exporter": "python",
   "file_extension": ".py"
  },
  "kernelspec": {
   "name": "python3",
   "display_name": "Python 3.9.6 64-bit"
  },
  "interpreter": {
   "hash": "9503a2c5e1b54d3d774ca4619582f1c90a1bab313cb544a579bd768ee3eb9e42"
  }
 },
 "nbformat": 4,
 "nbformat_minor": 2
}